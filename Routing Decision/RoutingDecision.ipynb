{
 "cells": [
  {
   "cell_type": "code",
   "execution_count": 1,
   "metadata": {},
   "outputs": [],
   "source": [
    "import pandas as pd\n",
    "import socket\n",
    "import struct"
   ]
  },
  {
   "cell_type": "code",
   "execution_count": 2,
   "metadata": {},
   "outputs": [],
   "source": [
    "#Packets\n",
    "with open(\"RandomPackets.txt\",'r') as fp:\n",
    "    packets = [line.rstrip('\\n') for line in fp.readlines()]"
   ]
  },
  {
   "cell_type": "code",
   "execution_count": 3,
   "metadata": {},
   "outputs": [],
   "source": [
    "#Routing Table\n",
    "#assuming that set of 8 bits can have continuous 1s on subnet mask \n",
    "with open(\"RoutingTable.txt\",'r') as fp:\n",
    "    lines = [line.rstrip('\\n') for line in fp.readlines()]\n",
    "    mask = []\n",
    "    destn = []\n",
    "    nxtHop = []\n",
    "    intfc = []\n",
    "    for i in range(0,len(lines)):\n",
    "        if i%3 == 0: \n",
    "            destn.append(lines[i].split(\"/\")[0])\n",
    "            mask.append(socket.inet_ntoa(struct.pack(\">I\", (0xffffffff << (32 - int(lines[i].split(\"/\")[1]))) & 0xffffffff)))\n",
    "        elif i%3 == 1:\n",
    "            nxtHop.append(lines[i])\n",
    "        else:\n",
    "            intfc.append(lines[i])\n",
    "    mask = set(mask)\n",
    "    mask = sorted(mask,reverse=True)\n"
   ]
  },
  {
   "cell_type": "code",
   "execution_count": 4,
   "metadata": {},
   "outputs": [],
   "source": [
    "#Dataframe of routing table\n",
    "df = pd.DataFrame({ \"destn\":destn, \n",
    "                    \"next_hop\":nxtHop,\n",
    "                    \"interface\":intfc\n",
    "                  }) "
   ]
  },
  {
   "cell_type": "code",
   "execution_count": 5,
   "metadata": {},
   "outputs": [],
   "source": [
    "output = []\n",
    "f= open(\"RoutingOutput.txt\",\"w+\")\n",
    "for i in packets:\n",
    "    firstQuad = int(i.split(\".\")[0])\n",
    "    if (firstQuad < 223):\n",
    "        if(firstQuad == 127):\n",
    "            f.write(i+\" is loopback; discarded\\n\")\n",
    "        else:\n",
    "            #forward packets based on masks\n",
    "            for j in mask:\n",
    "                #AND operation\n",
    "                trailzero = len(''.join(j.split(\".\"))) - len(''.join(j.split(\".\")).rstrip('0'))\n",
    "                updatIp = i.split(\".\")\n",
    "                for k in range(0,trailzero):\n",
    "                    updatIp[len(updatIp)-1-k]='0'\n",
    "                updatIp = '.'.join(updatIp)\n",
    "                \n",
    "                #retrieving packets and forwarding them\n",
    "                if(df['destn'].str.contains(updatIp).any()):\n",
    "                    temp = df[df.destn == updatIp]\n",
    "                    f.write(i+' will be forwarded'+(' on the directly connected network on interface ' if temp['next_hop'].values[0]=='-' else ' to '+temp['next_hop'].values[0]+' out on interface ')+temp['interface'].values[0]+'\\n')\n",
    "                    break\n",
    "                \n",
    "    else:\n",
    "        f.write(i+\" is malformed; discarded\\n\")\n",
    "f.close()\n"
   ]
  }
 ],
 "metadata": {
  "kernelspec": {
   "display_name": "Python 3",
   "language": "python",
   "name": "python3"
  },
  "language_info": {
   "codemirror_mode": {
    "name": "ipython",
    "version": 3
   },
   "file_extension": ".py",
   "mimetype": "text/x-python",
   "name": "python",
   "nbconvert_exporter": "python",
   "pygments_lexer": "ipython3",
   "version": "3.7.3"
  }
 },
 "nbformat": 4,
 "nbformat_minor": 2
}
