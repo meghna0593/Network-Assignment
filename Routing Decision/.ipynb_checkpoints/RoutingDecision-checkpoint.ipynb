{
 "cells": [
  {
   "cell_type": "code",
   "execution_count": 210,
   "metadata": {},
   "outputs": [],
   "source": [
    "import pandas as pd\n",
    "import socket\n",
    "import struct"
   ]
  },
  {
   "cell_type": "code",
   "execution_count": 211,
   "metadata": {},
   "outputs": [],
   "source": [
    "#Packets\n",
    "with open(\"RandomPackets.txt\",'r') as fp:\n",
    "    packets = [line.rstrip('\\n') for line in fp.readlines()]"
   ]
  },
  {
   "cell_type": "code",
   "execution_count": 212,
   "metadata": {},
   "outputs": [],
   "source": [
    "#Routing Table\n",
    "#assuming that set of 8 bits can have continuous 1s on subnet mask \n",
    "with open(\"RoutingTable.txt\",'r') as fp:\n",
    "    lines = [line.rstrip('\\n') for line in fp.readlines()]\n",
    "    mask = []\n",
    "    destn = []\n",
    "    nxtHop = []\n",
    "    intfc = []\n",
    "    for i in range(0,len(lines)):\n",
    "        if i%3 == 0: \n",
    "            destn.append(lines[i].split(\"/\")[0])\n",
    "            mask.append(socket.inet_ntoa(struct.pack(\">I\", (0xffffffff << (32 - int(lines[i].split(\"/\")[1]))) & 0xffffffff)))\n",
    "        elif i%3 == 1:\n",
    "            nxtHop.append(lines[i])\n",
    "        else:\n",
    "            intfc.append(lines[i])\n",
    "    mask = set(mask)\n",
    "    mask = sorted(mask,reverse=True)\n"
   ]
  },
  {
   "cell_type": "code",
   "execution_count": 213,
   "metadata": {},
   "outputs": [
    {
     "data": {
      "text/html": [
       "<div>\n",
       "<style scoped>\n",
       "    .dataframe tbody tr th:only-of-type {\n",
       "        vertical-align: middle;\n",
       "    }\n",
       "\n",
       "    .dataframe tbody tr th {\n",
       "        vertical-align: top;\n",
       "    }\n",
       "\n",
       "    .dataframe thead th {\n",
       "        text-align: right;\n",
       "    }\n",
       "</style>\n",
       "<table border=\"1\" class=\"dataframe\">\n",
       "  <thead>\n",
       "    <tr style=\"text-align: right;\">\n",
       "      <th></th>\n",
       "      <th>destn</th>\n",
       "      <th>next_hop</th>\n",
       "      <th>interface</th>\n",
       "    </tr>\n",
       "  </thead>\n",
       "  <tbody>\n",
       "    <tr>\n",
       "      <th>0</th>\n",
       "      <td>192.168.1.0</td>\n",
       "      <td>-</td>\n",
       "      <td>E0</td>\n",
       "    </tr>\n",
       "    <tr>\n",
       "      <th>1</th>\n",
       "      <td>192.168.2.0</td>\n",
       "      <td>192.168.4.2</td>\n",
       "      <td>S0</td>\n",
       "    </tr>\n",
       "    <tr>\n",
       "      <th>2</th>\n",
       "      <td>192.168.3.0</td>\n",
       "      <td>192.168.5.2</td>\n",
       "      <td>S1</td>\n",
       "    </tr>\n",
       "    <tr>\n",
       "      <th>3</th>\n",
       "      <td>192.168.4.0</td>\n",
       "      <td>-</td>\n",
       "      <td>S0</td>\n",
       "    </tr>\n",
       "    <tr>\n",
       "      <th>4</th>\n",
       "      <td>192.168.5.0</td>\n",
       "      <td>-</td>\n",
       "      <td>S1</td>\n",
       "    </tr>\n",
       "    <tr>\n",
       "      <th>5</th>\n",
       "      <td>192.168.6.0</td>\n",
       "      <td>192.168.4.2</td>\n",
       "      <td>S0</td>\n",
       "    </tr>\n",
       "    <tr>\n",
       "      <th>6</th>\n",
       "      <td>192.168.2.2</td>\n",
       "      <td>192.168.5.2</td>\n",
       "      <td>S1</td>\n",
       "    </tr>\n",
       "    <tr>\n",
       "      <th>7</th>\n",
       "      <td>192.168.3.3</td>\n",
       "      <td>192.168.4.2</td>\n",
       "      <td>S0</td>\n",
       "    </tr>\n",
       "    <tr>\n",
       "      <th>8</th>\n",
       "      <td>0.0.0.0</td>\n",
       "      <td>192.168.4.2</td>\n",
       "      <td>S0</td>\n",
       "    </tr>\n",
       "  </tbody>\n",
       "</table>\n",
       "</div>"
      ],
      "text/plain": [
       "         destn     next_hop interface\n",
       "0  192.168.1.0            -        E0\n",
       "1  192.168.2.0  192.168.4.2        S0\n",
       "2  192.168.3.0  192.168.5.2        S1\n",
       "3  192.168.4.0            -        S0\n",
       "4  192.168.5.0            -        S1\n",
       "5  192.168.6.0  192.168.4.2        S0\n",
       "6  192.168.2.2  192.168.5.2        S1\n",
       "7  192.168.3.3  192.168.4.2        S0\n",
       "8      0.0.0.0  192.168.4.2        S0"
      ]
     },
     "execution_count": 213,
     "metadata": {},
     "output_type": "execute_result"
    }
   ],
   "source": [
    "#Dataframe of routing table\n",
    "df = pd.DataFrame({ \"destn\":destn, \n",
    "                    \"next_hop\":nxtHop,\n",
    "                    \"interface\":intfc\n",
    "                  }) "
   ]
  },
  {
   "cell_type": "code",
   "execution_count": 214,
   "metadata": {},
   "outputs": [],
   "source": [
    "output = []\n",
    "f= open(\"RoutingOutput.txt\",\"w+\")\n",
    "for i in packets:\n",
    "    firstQuad = int(i.split(\".\")[0])\n",
    "    if (firstQuad < 223):\n",
    "        if(firstQuad == 127):\n",
    "            f.write(i+\" is loopback; discarded\\n\")\n",
    "        else:\n",
    "            #forward packets based on masks\n",
    "            for j in mask:\n",
    "                #AND operation\n",
    "                trailzero = len(''.join(j.split(\".\"))) - len(''.join(j.split(\".\")).rstrip('0'))\n",
    "                updatIp = i.split(\".\")\n",
    "                for k in range(0,trailzero):\n",
    "                    updatIp[len(updatIp)-1-k]='0'\n",
    "                updatIp = '.'.join(updatIp)\n",
    "                \n",
    "                #retrieving packets and forwarding them\n",
    "                if(df['destn'].str.contains(updatIp).any()):\n",
    "                    temp = df[df.destn == updatIp]\n",
    "                    f.write(i+' will be forwarded'+(' on the directly connected network on interface ' if temp['next_hop'].values[0]=='-' else ' to '+temp['next_hop'].values[0]+' out on interface ')+temp['interface'].values[0]+'\\n')\n",
    "                    break\n",
    "                \n",
    "    else:\n",
    "        f.write(i+\" is malformed; discarded\\n\")\n",
    "f.close()\n"
   ]
  },
  {
   "cell_type": "code",
   "execution_count": null,
   "metadata": {},
   "outputs": [],
   "source": []
  },
  {
   "cell_type": "code",
   "execution_count": null,
   "metadata": {},
   "outputs": [],
   "source": []
  },
  {
   "cell_type": "code",
   "execution_count": null,
   "metadata": {},
   "outputs": [],
   "source": []
  },
  {
   "cell_type": "code",
   "execution_count": 215,
   "metadata": {},
   "outputs": [],
   "source": [
    "#https://stackoverflow.com/questions/23352028/how-to-convert-a-cidr-prefix-to-a-dotted-quad-netmask-in-python"
   ]
  }
 ],
 "metadata": {
  "kernelspec": {
   "display_name": "Python 3",
   "language": "python",
   "name": "python3"
  },
  "language_info": {
   "codemirror_mode": {
    "name": "ipython",
    "version": 3
   },
   "file_extension": ".py",
   "mimetype": "text/x-python",
   "name": "python",
   "nbconvert_exporter": "python",
   "pygments_lexer": "ipython3",
   "version": "3.7.3"
  }
 },
 "nbformat": 4,
 "nbformat_minor": 2
}
