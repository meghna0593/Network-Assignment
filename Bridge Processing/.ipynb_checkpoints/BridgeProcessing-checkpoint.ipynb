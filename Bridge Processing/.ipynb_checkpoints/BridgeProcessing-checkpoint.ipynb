{
 "cells": [
  {
   "cell_type": "code",
   "execution_count": 91,
   "metadata": {},
   "outputs": [
    {
     "name": "stdout",
     "output_type": "stream",
     "text": [
      "{'00-00-00-11-0b-0d': '1', '00-13-46-c6-a5-35': '2', '00-13-8f-cd-44-58': '3', '00-0c-29-51-33-c1': '4', '01-00-5e-7f-ff-64': '4', '00-1a-4d-30-f7-a7': '3', '00-0e-38-72-eb-97': '2', '00-e0-4c-34-e4-9c': '1', '00-0c-29-e6-60-20': '1', '00-00-0c-07-ac-66': '2', '00-1f-d0-c8-4a-27': '3', '00-1f-d0-c8-49-7c': '4', '00-11-22-33-44-55': '3', '00-00-4d-0a-9f-3d': '2', '00-24-1d-3a-cc-e4': '1', '00-ff-00-02-00-17': '1', '00-21-91-8c-b9-3f': '2', '00-0e-d7-bf-56-6b': '3', '00-1d-7d-4c-6a-d9': '4', '00-0c-29-f1-3c-61': '4', '00-0c-29-fe-f7-2d': '3', '00-1a-4d-34-ab-cd': '2', '00-e0-4c-86-70-09': '1', '00-50-ba-bc-bb-41': '1', '00-0c-29-e6-60-16': '2', '00-1f-d0-c8-49-7f': '3', '00-24-1d-3a-7d-14': '4', '00-1a-4d-34-aa-7b': '4', '00-1d-60-29-a5-ae': '3', '00-24-1d-3a-b8-2a': '2', '00-19-5b-0d-04-dc': '1', '00-21-91-f5-d5-d4': '1', '00-0c-29-33-47-6f': '2', '00-18-f3-05-c0-3e': '3', '00-1b-2f-2f-a5-21': '4', '00-1d-7d-4c-6a-21': '4', '00-07-95-49-70-63': '3', '00-15-58-07-0b-f8': '2', '00-ff-00-02-00-16': '1', '00-13-8f-f4-01-8f': '1', '00-1d-58-00-00-1e': '2', '00-d0-2b-61-65-0a': '3', '00-1d-60-29-cc-b2': '4', '00-1d-7d-77-de-3c': '4', '00-13-8f-f0-96-87': '3', '00-1a-4d-34-ab-df': '2'}\n"
     ]
    }
   ],
   "source": [
    "#FDB\n",
    "count = 0\n",
    "fdb = {}\n",
    "key = \"\"\n",
    "with open(\"BridgeFDB.txt\",\"r\") as fh:\n",
    "    lines = [line.rstrip('\\n') for line in fh.readlines()]\n",
    "    for line in lines:\n",
    "        if count%2==0:\n",
    "            key = line\n",
    "        else:\n",
    "            fdb[key] = line\n",
    "        count = count + 1\n",
    "print(fdb)"
   ]
  },
  {
   "cell_type": "code",
   "execution_count": 92,
   "metadata": {},
   "outputs": [
    {
     "name": "stdout",
     "output_type": "stream",
     "text": [
      "[('00-00-00-11-0b-0d', '00-13-46-c6-a5-35', '1'), ('00-0c-29-51-33-c1', '01-00-5e-7f-ff-64', '4'), ('01-00-5e-7f-ff-64', '00-00-4f-31-fa-fb', '3'), ('00-1d-60-29-cc-b2', '00-1d-7d-77-de-3c', '4'), ('00-19-5b-0d-04-dc', '00-21-91-f5-d5-d4', '1'), ('00-1a-4d-34-ab-cd', '00-e0-4c-86-70-09', '2'), ('00-1f-d0-c8-49-7f', '00-24-1d-3a-7d-14', '3'), ('00-11-22-33-44-55', '00-1d-60-29-a5-ae', '3'), ('00-24-1d-3a-b8-2a', '00-19-5b-0d-04-dc', '2'), ('00-0c-29-33-47-6f', '00-11-22-33-44-55', '2')]\n"
     ]
    }
   ],
   "source": [
    "#Frames \n",
    "count = 1\n",
    "frames = []\n",
    "tempTup = []\n",
    "with open(\"RandomFrames.txt\",\"r\") as fh:\n",
    "    lines = [line.rstrip('\\n') for line in fh.readlines()]\n",
    "    for line in lines:\n",
    "        if count%3==0:\n",
    "            count=1\n",
    "            #add three var tuple to frame\n",
    "            tempTup.append(line)\n",
    "            tempTup_ = tuple(tempTup)\n",
    "            frames.append(tempTup_)\n",
    "            tempTup = []\n",
    "        else:\n",
    "            #add into tuple\n",
    "            tempTup.append(line)\n",
    "            count = count + 1\n",
    "print(frames)\n",
    "\n",
    "        "
   ]
  },
  {
   "cell_type": "code",
   "execution_count": 93,
   "metadata": {},
   "outputs": [],
   "source": [
    "#implementation\n",
    "output = []\n",
    "f= open(\"BridgeOutput.txt\",\"w+\")\n",
    "for frame in frames:\n",
    "    if frame[0] in fdb.keys():\n",
    "        if frame[2] != fdb[frame[0]]:\n",
    "            fdb[frame[0]] = frame[2]\n",
    "    else:\n",
    "        fdb[frame[0]] = frame[2]\n",
    "    \n",
    "    if frame[1] in fdb.keys():\n",
    "        if frame[2] == fdb[frame[1]]:\n",
    "            f.write(frame[0]+\" \"+frame[1]+\" \"+frame[2]+\" \"+\"Discarded\\n\")\n",
    "        else:\n",
    "            f.write(frame[0]+\" \"+frame[1]+\" \"+frame[2]+\" \"+\"Forwarded on port \"+fdb[frame[1]]+\"\\n\")\n",
    "    else:\n",
    "         f.write(frame[0]+\" \"+frame[1]+\" \"+frame[2]+\" \"+\"Broadcast\\n\")\n",
    "\n",
    "f.write(\"\\n\\nUpdated FDB:\\n\")\n",
    "for key, value in fdb.items():\n",
    "    f.write(key+\" \"+value+\"\\n\")\n",
    "f.close()\n"
   ]
  }
 ],
 "metadata": {
  "kernelspec": {
   "display_name": "Python 3",
   "language": "python",
   "name": "python3"
  },
  "language_info": {
   "codemirror_mode": {
    "name": "ipython",
    "version": 3
   },
   "file_extension": ".py",
   "mimetype": "text/x-python",
   "name": "python",
   "nbconvert_exporter": "python",
   "pygments_lexer": "ipython3",
   "version": "3.7.3"
  }
 },
 "nbformat": 4,
 "nbformat_minor": 2
}
