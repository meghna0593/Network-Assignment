{
 "cells": [
  {
   "cell_type": "markdown",
   "metadata": {},
   "source": [
    "# Advanced Topics in Network : Bit Stuffing  \n",
    ">#### <font color=\"#2196F3\">Meghna Ramachandra Holla (B00812604) </font>\n",
    "***"
   ]
  },
  {
   "cell_type": "code",
   "execution_count": 454,
   "metadata": {},
   "outputs": [],
   "source": [
    "import re"
   ]
  },
  {
   "cell_type": "code",
   "execution_count": 455,
   "metadata": {},
   "outputs": [],
   "source": [
    "def stringToBinary(st):\n",
    "    return ' '.join(format(ord(x), 'b') for x in st)"
   ]
  },
  {
   "cell_type": "code",
   "execution_count": 456,
   "metadata": {},
   "outputs": [],
   "source": [
    "#input: argument in string format with space inbetween  \n",
    "def binaryToString(bn): \n",
    "    bn = bn.split(' ')\n",
    "    bn_ascii = list(map(lambda i : int(i,2),bn))\n",
    "    text = ''.join(chr(i) for i in bn_ascii)\n",
    "    return text\n"
   ]
  },
  {
   "cell_type": "code",
   "execution_count": 457,
   "metadata": {},
   "outputs": [],
   "source": [
    "def bitStuffing(binValue):\n",
    "    stuffedBit = re.sub(r'(\\s*1\\s*1\\s*1\\s*1\\s*1\\s*)', r'\\g<1>0', binValue) #can also use just \\1 to match the grouped string. \n",
    "    return stuffedBit"
   ]
  },
  {
   "cell_type": "code",
   "execution_count": 458,
   "metadata": {},
   "outputs": [],
   "source": [
    "def bitUnstuffing(binValue):\n",
    "    unstuffedBit = re.sub(r'(\\s*1\\s*1\\s*1\\s*1\\s*1\\s*)(0)', r'\\g<1>'+re.escape(\"\"), binValue) #removing second group and keeping the first\n",
    "    return unstuffedBit"
   ]
  },
  {
   "cell_type": "code",
   "execution_count": 459,
   "metadata": {},
   "outputs": [],
   "source": [
    "def displayValues(text,value):\n",
    "    print(text,value,\"\\n\")"
   ]
  },
  {
   "cell_type": "code",
   "execution_count": 460,
   "metadata": {},
   "outputs": [
    {
     "name": "stdout",
     "output_type": "stream",
     "text": [
      "Converted string value: The Nobel Prize in physics recognizes two more significant pieces of work on lasers. Arthur Ashkin, a former employee of Bell Labs in the US, got the prize for developing optical tweezers and their application to biological systems. Gerard Mourou of Ecole Polytechnique in France and Donna Strickland of the University of Waterloo in Canada have been awarded for their method of generating high-intensity, ultra-short optical pulses.(It is worth noting that Strickland is the first woman in 55 years and the only the third woman to win a Nobel Prize in physics. \n",
      "\n"
     ]
    }
   ],
   "source": [
    "if __name__ == \"__main__\":\n",
    "    text=\"The Nobel Prize in physics recognizes two more significant pieces of work on lasers. Arthur Ashkin, a former employee of Bell Labs in the US, got the prize for developing optical tweezers and their application to biological systems. Gerard Mourou of Ecole Polytechnique in France and Donna Strickland of the University of Waterloo in Canada have been awarded for their method of generating high-intensity, ultra-short optical pulses.(It is worth noting that Strickland is the first woman in 55 years and the only the third woman to win a Nobel Prize in physics.\"\n",
    "    binValue = stringToBinary(text) \n",
    "    stuffedBitStream = bitStuffing(binValue)\n",
    "#     displayValues(\"Bit stuffing result:\",stuffedBitStream)\n",
    "    unstuffedBitStream  = bitUnstuffing(stuffedBitStream)\n",
    "#     displayValues(\"Bit unstuffing result:\",unstuffedBitStream)\n",
    "    \n",
    "    strValue = binaryToString(unstuffedBitStream)\n",
    "#     displayValues(\"Converted bit stream value:\",binValue)\n",
    "    displayValues(\"Converted string value:\",strValue)\n",
    "\n",
    "    \n"
   ]
  },
  {
   "cell_type": "code",
   "execution_count": null,
   "metadata": {},
   "outputs": [],
   "source": []
  },
  {
   "cell_type": "code",
   "execution_count": null,
   "metadata": {},
   "outputs": [],
   "source": []
  }
 ],
 "metadata": {
  "kernelspec": {
   "display_name": "Python 3",
   "language": "python",
   "name": "python3"
  },
  "language_info": {
   "codemirror_mode": {
    "name": "ipython",
    "version": 3
   },
   "file_extension": ".py",
   "mimetype": "text/x-python",
   "name": "python",
   "nbconvert_exporter": "python",
   "pygments_lexer": "ipython3",
   "version": "3.7.3"
  }
 },
 "nbformat": 4,
 "nbformat_minor": 2
}
