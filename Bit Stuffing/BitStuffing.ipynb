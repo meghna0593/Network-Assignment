{
 "cells": [
  {
   "cell_type": "markdown",
   "metadata": {},
   "source": [
    "# Advanced Topics in Network : Bit Stuffing  \n",
    ">#### <font color=\"#2196F3\">Meghna Ramachandra Holla (B00812604) </font>\n",
    "***"
   ]
  },
  {
   "cell_type": "code",
   "execution_count": 641,
   "metadata": {},
   "outputs": [],
   "source": [
    "import re"
   ]
  },
  {
   "cell_type": "code",
   "execution_count": 642,
   "metadata": {},
   "outputs": [],
   "source": [
    "def stringToBinary(st):\n",
    "    return ' '.join(format(ord(x), 'b') for x in st)"
   ]
  },
  {
   "cell_type": "code",
   "execution_count": 643,
   "metadata": {},
   "outputs": [],
   "source": [
    "#input: argument in string format with space inbetween  \n",
    "def binaryToString(bn): \n",
    "    bn = bn.split(' ')\n",
    "    bn_ascii = list(map(lambda i : int(i,2),bn))\n",
    "    text = ''.join(chr(i) for i in bn_ascii)\n",
    "    return text\n"
   ]
  },
  {
   "cell_type": "code",
   "execution_count": 644,
   "metadata": {},
   "outputs": [],
   "source": [
    "def bitStuffing(binValue):\n",
    "    stuffedBit = re.sub(r'(\\s*1\\s*1\\s*1\\s*1\\s*1\\s*)', r'\\g<1>0', binValue) #can also use just \\1 to match the grouped string. \n",
    "    return stuffedBit"
   ]
  },
  {
   "cell_type": "code",
   "execution_count": 645,
   "metadata": {},
   "outputs": [],
   "source": [
    "def bitUnstuffing(binValue):\n",
    "    unstuffedBit = re.sub(r'(\\s*1\\s*1\\s*1\\s*1\\s*1\\s*)(0)', r'\\g<1>'+re.escape(\"\"), binValue) #removing second group and keeping the first\n",
    "    return unstuffedBit"
   ]
  },
  {
   "cell_type": "code",
   "execution_count": 646,
   "metadata": {},
   "outputs": [],
   "source": [
    "def displayValues(text,value):\n",
    "    print(text,value,\"\\n\")"
   ]
  },
  {
   "cell_type": "code",
   "execution_count": 658,
   "metadata": {},
   "outputs": [
    {
     "name": "stdout",
     "output_type": "stream",
     "text": [
      "0\n",
      "1\n"
     ]
    }
   ],
   "source": [
    "if __name__ == \"__main__\":\n",
    "    a = set()\n",
    "    a.add('a')    \n",
    "    a.add('2')\n",
    "\n",
    "    for i in range(len(a)):\n",
    "        print(i)\n",
    "#     #data load\n",
    "#     fr = open(\"inputTxtFile.txt\", \"r\")\n",
    "#     text = fr.read()\n",
    "    \n",
    "#     #convert string to bit stream\n",
    "#     binValue = stringToBinary(text) \n",
    "\n",
    "#     #bit stuffing method called\n",
    "#     stuffedBitStream = bitStuffing(binValue)\n",
    "\n",
    "#     displayValues(\"The bitstuffed values:\",stuffedBitStream.replace(\" \",\"\"))\n",
    "    \n",
    "#     #bitunstuffing method called\n",
    "#     unstuffedBitStream  = bitUnstuffing(stuffedBitStream)\n",
    "    \n",
    "#     #convert bit stream to string\n",
    "#     strValue = binaryToString(unstuffedBitStream)\n",
    "\n",
    "#     #storing the converted string in an output file\n",
    "#     if(strValue==text):        \n",
    "#         fw = open(\"outputTxtFile.txt\", \"w\")\n",
    "#         fw.write(strValue)\n",
    "#         fw.close()\n",
    "\n",
    "    \n"
   ]
  },
  {
   "cell_type": "code",
   "execution_count": null,
   "metadata": {},
   "outputs": [],
   "source": []
  }
 ],
 "metadata": {
  "kernelspec": {
   "display_name": "Python 3",
   "language": "python",
   "name": "python3"
  },
  "language_info": {
   "codemirror_mode": {
    "name": "ipython",
    "version": 3
   },
   "file_extension": ".py",
   "mimetype": "text/x-python",
   "name": "python",
   "nbconvert_exporter": "python",
   "pygments_lexer": "ipython3",
   "version": "3.7.3"
  }
 },
 "nbformat": 4,
 "nbformat_minor": 2
}
